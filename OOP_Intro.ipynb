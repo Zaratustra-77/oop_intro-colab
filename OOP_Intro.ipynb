{
  "nbformat": 4,
  "nbformat_minor": 0,
  "metadata": {
    "colab": {
      "name": "OOP_Intro.ipynb",
      "provenance": [],
      "collapsed_sections": [],
      "authorship_tag": "ABX9TyM9DmIrJ4jmtmX9MW3uISAm",
      "include_colab_link": true
    },
    "kernelspec": {
      "name": "python3",
      "display_name": "Python 3"
    },
    "language_info": {
      "name": "python"
    }
  },
  "cells": [
    {
      "cell_type": "markdown",
      "metadata": {
        "id": "view-in-github",
        "colab_type": "text"
      },
      "source": [
        "<a href=\"https://colab.research.google.com/github/Zaratustra-77/oop_intro-colab/blob/main/OOP_Intro.ipynb\" target=\"_parent\"><img src=\"https://colab.research.google.com/assets/colab-badge.svg\" alt=\"Open In Colab\"/></a>"
      ]
    },
    {
      "cell_type": "code",
      "execution_count": null,
      "metadata": {
        "colab": {
          "base_uri": "https://localhost:8080/"
        },
        "id": "TyJoVN4AgDwK",
        "outputId": "ee59c447-737f-48a6-9b92-f13f3cc3de51"
      },
      "outputs": [
        {
          "output_type": "stream",
          "name": "stdout",
          "text": [
            "for git\n"
          ]
        }
      ],
      "source": [
        "print(\"for git\")"
      ]
    },
    {
      "cell_type": "code",
      "source": [
        "print(\"No 3\")"
      ],
      "metadata": {
        "id": "kT9jH_jPiBKq",
        "outputId": "c1a05760-ae98-4323-9a1f-64c1f1397fec",
        "colab": {
          "base_uri": "https://localhost:8080/"
        }
      },
      "execution_count": 3,
      "outputs": [
        {
          "output_type": "stream",
          "name": "stdout",
          "text": [
            "No 3\n"
          ]
        }
      ]
    }
  ]
}