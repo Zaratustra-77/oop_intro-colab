{
  "nbformat": 4,
  "nbformat_minor": 0,
  "metadata": {
    "colab": {
      "name": "OOP_Intro.ipynb",
      "provenance": [],
      "collapsed_sections": [],
      "authorship_tag": "ABX9TyM8KGRyvOUz0BeV9gSIb0zl",
      "include_colab_link": true
    },
    "kernelspec": {
      "name": "python3",
      "display_name": "Python 3"
    },
    "language_info": {
      "name": "python"
    }
  },
  "cells": [
    {
      "cell_type": "markdown",
      "metadata": {
        "id": "view-in-github",
        "colab_type": "text"
      },
      "source": [
        "<a href=\"https://colab.research.google.com/github/Zaratustra-77/oop_intro-colab/blob/main/OOP_Intro.ipynb\" target=\"_parent\"><img src=\"https://colab.research.google.com/assets/colab-badge.svg\" alt=\"Open In Colab\"/></a>"
      ]
    },
    {
      "cell_type": "code",
      "execution_count": 1,
      "metadata": {
        "colab": {
          "base_uri": "https://localhost:8080/"
        },
        "id": "TyJoVN4AgDwK",
        "outputId": "803b23cf-cf59-4eda-c935-b1391728ff71"
      },
      "outputs": [
        {
          "output_type": "stream",
          "name": "stdout",
          "text": [
            "for git\n"
          ]
        }
      ],
      "source": [
        "print(\"for git\")"
      ]
    },
    {
      "cell_type": "code",
      "source": [
        "print(\"Another add to git\")"
      ],
      "metadata": {
        "id": "1kRmaT5MhirY",
        "outputId": "daa9b660-88f3-4025-a63c-8e956a479fa9",
        "colab": {
          "base_uri": "https://localhost:8080/"
        }
      },
      "execution_count": 2,
      "outputs": [
        {
          "output_type": "stream",
          "name": "stdout",
          "text": [
            "Another add to git\n"
          ]
        }
      ]
    }
  ]
}